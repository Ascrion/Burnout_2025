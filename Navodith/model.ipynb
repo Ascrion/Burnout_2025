{
 "cells": [
  {
   "cell_type": "markdown",
   "id": "cc9a173b",
   "metadata": {},
   "source": [
    "Data Analysis"
   ]
  },
  {
   "cell_type": "code",
   "execution_count": null,
   "id": "d0adfa7e",
   "metadata": {},
   "outputs": [],
   "source": [
    "import pandas as pd\n",
    "\n",
    "# Store data in a Dataframe\n",
    "train = pd.read_csv(\"./raw_data/train.csv\")\n",
    "test = pd.read_csv(\"./raw_data/test.csv\")\n",
    "submission = pd.read_csv(\"./raw_data/sample_submission.csv\")"
   ]
  },
  {
   "cell_type": "code",
   "execution_count": null,
   "id": "2f166a8b",
   "metadata": {},
   "outputs": [],
   "source": [
    "# Train Data\n",
    "X = train.drop(columns=[\"Lap_Time_Seconds\"])\n",
    "y = train[\"Lap_Time_Seconds\"]\n",
    "\n",
    "# Test data\n",
    "X_test = test.copy()\n",
    "\n",
    "# One Hot Encode Categorical data\n",
    "X = pd.get_dummies(X)\n",
    "X_test = pd.get_dummies(X_test)\n",
    "\n",
    "# Align test data with train data based on columns\n",
    "X, X_test = X.align(X_test, join='left', axis=1, fill_value=0)"
   ]
  },
  {
   "cell_type": "code",
   "execution_count": 17,
   "id": "9aa7f6ec",
   "metadata": {},
   "outputs": [],
   "source": [
    "from sklearn.model_selection import train_test_split\n",
    "\n",
    "# Generalize column names\n",
    "original_cols = X.columns.tolist()\n",
    "\n",
    "X.columns = [f\"f{i}\" for i in range(X.shape[1])]\n",
    "X_test.columns = X.columns "
   ]
  },
  {
   "cell_type": "markdown",
   "id": "a374d8f7",
   "metadata": {},
   "source": [
    "Model Training"
   ]
  },
  {
   "cell_type": "code",
   "execution_count": null,
   "id": "01c78972",
   "metadata": {},
   "outputs": [],
   "source": [
    "import time\n",
    "import xgboost as xgb\n",
    "import lightgbm as lgb\n",
    "from catboost import CatBoostRegressor\n",
    "from sklearn.ensemble import StackingRegressor\n",
    "\n",
    "stacked_model = StackingRegressor(\n",
    "    estimators=[\n",
    "        ('xgb', xgb.XGBRegressor(n_estimators=100, tree_method='hist', n_jobs=-1, verbosity=1)),\n",
    "        ('lgb', lgb.LGBMRegressor(n_estimators=100, n_jobs=-1)),\n",
    "        ('cat', CatBoostRegressor(iterations=100, thread_count=-1, verbose=0))\n",
    "    ],\n",
    "    final_estimator=lgb.LGBMRegressor(n_estimators=50)\n",
    ")\n",
    "\n",
    "\n",
    "# ⏱ Training with timer\n",
    "start = time.time()\n",
    "stacked_model.fit(X, y)\n",
    "print(f\"⏱ Done training in {round(time.time() - start, 2)} seconds.\")"
   ]
  },
  {
   "cell_type": "code",
   "execution_count": null,
   "id": "4b61ca16",
   "metadata": {},
   "outputs": [],
   "source": [
    "# from sklearn.model_selection import KFold\n",
    "# from sklearn.metrics import root_mean_squared_error\n",
    "# import numpy as np\n",
    "\n",
    "# # Split training data into test and val, to find out RMSE value.\n",
    "# kf = KFold(n_splits=5, shuffle=True, random_state=42)\n",
    "\n",
    "# rmse_list = []\n",
    "\n",
    "# for train_index, val_index in kf.split(X):\n",
    "#     X_train, X_val = X.iloc[train_index], X.iloc[val_index]\n",
    "#     y_train, y_val = y.iloc[train_index], y.iloc[val_index]\n",
    "\n",
    "#     stacked_model.fit(X_train, y_train)\n",
    "#     preds = stacked_model.predict(X_val)\n",
    "    \n",
    "#     rmse = root_mean_squared_error(y_val, preds, squared=False)\n",
    "#     rmse_list.append(rmse)\n",
    "\n",
    "# print(\"Fold-wise RMSEs:\", rmse_list)\n",
    "# print(\"Average RMSE:\", np.mean(rmse_list))\n"
   ]
  },
  {
   "cell_type": "code",
   "execution_count": null,
   "id": "b7833848",
   "metadata": {},
   "outputs": [],
   "source": [
    "# Predicting solutions\n",
    "submission['Lap_Time_Seconds'] = stacked_model.predict(X_test)\n",
    "submission.to_csv('solution.csv', index=False)"
   ]
  }
 ],
 "metadata": {
  "kernelspec": {
   "display_name": "Python 3",
   "language": "python",
   "name": "python3"
  },
  "language_info": {
   "codemirror_mode": {
    "name": "ipython",
    "version": 3
   },
   "file_extension": ".py",
   "mimetype": "text/x-python",
   "name": "python",
   "nbconvert_exporter": "python",
   "pygments_lexer": "ipython3",
   "version": "3.12.8"
  }
 },
 "nbformat": 4,
 "nbformat_minor": 5
}
